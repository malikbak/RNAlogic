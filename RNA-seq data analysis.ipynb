{
 "cells": [
  {
   "cell_type": "markdown",
   "metadata": {},
   "source": [
    "### RNA-seq data analysis\n",
    "#### In this notebook we run a pipeline in which tools are integrated for RNA seq data analysis.\n",
    "##### bowtie2: for alignment \n",
    "##### samtools: for sorting the sam file and coversion into bam file\n",
    "##### stringtie: for transcript structure recovery and abundance estimation"
   ]
  },
  {
   "cell_type": "code",
   "execution_count": 1,
   "metadata": {},
   "outputs": [
    {
     "name": "stdout",
     "output_type": "stream",
     "text": [
      "ftp://ftp.sra.ebi.ac.uk/vol1/fastq/SRR861/008/SRR8615528/SRR8615528_1.fastq.gz\r\n",
      "ftp://ftp.sra.ebi.ac.uk/vol1/fastq/SRR861/008/SRR8615528/SRR8615528_2.fastq.gz\r\n"
     ]
    }
   ],
   "source": [
    "!head data.txt"
   ]
  },
  {
   "cell_type": "code",
   "execution_count": null,
   "metadata": {},
   "outputs": [],
   "source": [
    "# I save the ftp link of fastq file for data in a txt file and download using wget command \n",
    "!wget -i data.txt # -i option use in the case if you have multiple links for files in txt file "
   ]
  },
  {
   "cell_type": "markdown",
   "metadata": {},
   "source": [
    "### Quality Control using FastQC"
   ]
  },
  {
   "cell_type": "code",
   "execution_count": 1,
   "metadata": {
    "scrolled": true
   },
   "outputs": [
    {
     "name": "stdout",
     "output_type": "stream",
     "text": [
      "Started analysis of SRR13311153_1.fastq\n",
      "Approx 5% complete for SRR13311153_1.fastq\n",
      "Approx 10% complete for SRR13311153_1.fastq\n",
      "Approx 15% complete for SRR13311153_1.fastq\n",
      "Approx 20% complete for SRR13311153_1.fastq\n",
      "Approx 25% complete for SRR13311153_1.fastq\n",
      "Approx 30% complete for SRR13311153_1.fastq\n",
      "Approx 35% complete for SRR13311153_1.fastq\n",
      "Approx 40% complete for SRR13311153_1.fastq\n",
      "Approx 45% complete for SRR13311153_1.fastq\n",
      "Approx 50% complete for SRR13311153_1.fastq\n",
      "Approx 55% complete for SRR13311153_1.fastq\n",
      "Approx 60% complete for SRR13311153_1.fastq\n",
      "Approx 65% complete for SRR13311153_1.fastq\n",
      "Approx 70% complete for SRR13311153_1.fastq\n",
      "Approx 75% complete for SRR13311153_1.fastq\n",
      "Approx 80% complete for SRR13311153_1.fastq\n",
      "Approx 85% complete for SRR13311153_1.fastq\n",
      "Approx 90% complete for SRR13311153_1.fastq\n",
      "Approx 95% complete for SRR13311153_1.fastq\n",
      "Analysis complete for SRR13311153_1.fastq\n"
     ]
    }
   ],
   "source": [
    "#let's run command line fastqc for one sample \n",
    "!fastqc SRR13311153_1.fastq # it will produce a html output of quality report\n",
    "# check the quality report and apply required steps for enhance the quality"
   ]
  },
  {
   "cell_type": "markdown",
   "metadata": {},
   "source": [
    "### Here we use 1st script that make bowtie2 index for reference genome \n",
    "### bowtie2"
   ]
  },
  {
   "cell_type": "code",
   "execution_count": 2,
   "metadata": {},
   "outputs": [
    {
     "name": "stdout",
     "output_type": "stream",
     "text": [
      "Building a LARGE index\r\n"
     ]
    }
   ],
   "source": [
    "# bowtie2_index.sh require 2 arguments -t number of threads and -i input reference fasta for a genome\n",
    "!bash bowtie2_index.sh -t 32 -i Homo_sapiens.GRCh38.dna.toplevel.fa > index_out.txt # reference should be with .fa extension\n",
    "# bowtie2 build command produce large output on terminal so here i save the output in a txt file using greater then \">\" sign"
   ]
  },
  {
   "cell_type": "markdown",
   "metadata": {},
   "source": [
    "### Here we perform bowtie2 alignment, samtools sorting and conversion into bam file and abundance estimation\n",
    "\n",
    "## RNA-seq data analysis"
   ]
  },
  {
   "cell_type": "code",
   "execution_count": 2,
   "metadata": {},
   "outputs": [
    {
     "name": "stdout",
     "output_type": "stream",
     "text": [
      "    sideSz: 128\r\n",
      "    sideBwtSz: 96\r\n",
      "    sideBwtLen: 384\r\n",
      "    numSides: 8080749\r\n",
      "    numLines: 8080749\r\n",
      "    ebwtTotLen: 1034335872\r\n",
      "    ebwtTotSz: 1034335872\r\n",
      "    color: 0\r\n",
      "    reverse: 1\r\n",
      "Total time for backward call to driver() for mirror index: 00:24:16\r\n"
     ]
    }
   ],
   "source": [
    "# let's tail the index_out.txt to check about time\n",
    "!tail index_out.txt"
   ]
  },
  {
   "cell_type": "code",
   "execution_count": 1,
   "metadata": {},
   "outputs": [
    {
     "name": "stdout",
     "output_type": "stream",
     "text": [
      "Forward reads: SRR13311153_1.fastq\n",
      "Reverse reads: SRR13311153_2.fastq\n",
      "Refernce prefix: Homo_sapiens.GRCh38.dna.toplevel\n",
      "Annotation file gff3: Homo_sapiens.GRCh38.106.gtf\n",
      "Alignemt using bowtie2 for SRR13311153\n",
      "26137510 reads; of these:\n",
      "  26137510 (100.00%) were paired; of these:\n",
      "    5498618 (21.04%) aligned concordantly 0 times\n",
      "    11473351 (43.90%) aligned concordantly exactly 1 time\n",
      "    9165541 (35.07%) aligned concordantly >1 times\n",
      "    ----\n",
      "    5498618 pairs aligned concordantly 0 times; of these:\n",
      "      703659 (12.80%) aligned discordantly 1 time\n",
      "    ----\n",
      "    4794959 pairs aligned 0 times concordantly or discordantly; of these:\n",
      "      9589918 mates make up the pairs; of these:\n",
      "        6176631 (64.41%) aligned 0 times\n",
      "        1953456 (20.37%) aligned exactly 1 time\n",
      "        1459831 (15.22%) aligned >1 times\n",
      "88.18% overall alignment rate\n",
      "Sorting the Alignment file\n",
      "[bam_sort_core] merging from 16 files and 16 in-memory blocks...\n",
      "Stringtie quantification\n"
     ]
    }
   ],
   "source": [
    "# below program take forward and reverse reads, bowtie index prefix and gff3 file for annotation\n",
    "!bash RNAseq_data_analysis.sh -1 SRR13311153_1.fastq -2 SRR13311153_2.fastq -r Homo_sapiens.GRCh38.dna.toplevel -g Homo_sapiens.GRCh38.106.gtf\n",
    "# -1 take forward reads, -2 take reverse reads, -r take bowtie2 index prefix and -g take annotated reference gff3 file"
   ]
  },
  {
   "cell_type": "code",
   "execution_count": 3,
   "metadata": {},
   "outputs": [
    {
     "name": "stdout",
     "output_type": "stream",
     "text": [
      "# stringtie SRR13311153.bam -l SRR13311153 -p 16 -G Homo_sapiens.GRCh38.106.gtf -o SRR13311153.gtf\r\n",
      "# StringTie version 2.1.1\r\n",
      "1\tStringTie\ttranscript\t98865\t99373\t1000\t.\t.\tgene_id \"SRR13311153.1\"; transcript_id \"SRR13311153.1.1\"; cov \"5.145383\"; FPKM \"0.746613\"; TPM \"1.263307\";\r\n",
      "1\tStringTie\texon\t98865\t99373\t1000\t.\t.\tgene_id \"SRR13311153.1\"; transcript_id \"SRR13311153.1.1\"; exon_number \"1\"; cov \"5.145383\";\r\n",
      "1\tStringTie\ttranscript\t131025\t134836\t1000\t+\t.\tgene_id \"SRR13311153.2\"; transcript_id \"SRR13311153.2.1\"; reference_id \"ENST00000442987\"; ref_gene_id \"ENSG00000233750\"; ref_gene_name \"CICP27\"; cov \"0.590504\"; FPKM \"0.085684\"; TPM \"0.144982\";\r\n",
      "1\tStringTie\texon\t131025\t134836\t1000\t+\t.\tgene_id \"SRR13311153.2\"; transcript_id \"SRR13311153.2.1\"; exon_number \"1\"; reference_id \"ENST00000442987\"; ref_gene_id \"ENSG00000233750\"; ref_gene_name \"CICP27\"; cov \"0.590504\";\r\n",
      "1\tStringTie\ttranscript\t135141\t135895\t1000\t-\t.\tgene_id \"SRR13311153.3\"; transcript_id \"SRR13311153.3.1\"; reference_id \"ENST00000494149\"; ref_gene_id \"ENSG00000268903\"; cov \"21.590729\"; FPKM \"3.132891\"; TPM \"5.301009\";\r\n",
      "1\tStringTie\texon\t135141\t135895\t1000\t-\t.\tgene_id \"SRR13311153.3\"; transcript_id \"SRR13311153.3.1\"; exon_number \"1\"; reference_id \"ENST00000494149\"; ref_gene_id \"ENSG00000268903\"; cov \"21.590729\";\r\n",
      "1\tStringTie\ttranscript\t137682\t137965\t1000\t-\t.\tgene_id \"SRR13311153.4\"; transcript_id \"SRR13311153.4.1\"; reference_id \"ENST00000595919\"; ref_gene_id \"ENSG00000269981\"; cov \"5.105634\"; FPKM \"0.740846\"; TPM \"1.253548\";\r\n",
      "1\tStringTie\texon\t137682\t137965\t1000\t-\t.\tgene_id \"SRR13311153.4\"; transcript_id \"SRR13311153.4.1\"; exon_number \"1\"; reference_id \"ENST00000595919\"; ref_gene_id \"ENSG00000269981\"; cov \"5.105634\";\r\n"
     ]
    }
   ],
   "source": [
    "# let's check the output file \n",
    "!head SRR13311153.gtf"
   ]
  },
  {
   "cell_type": "markdown",
   "metadata": {},
   "source": [
    "#### Repeat above process for all your samples and then make a txt file having gtf file name\n",
    "##### for making txt file follow below concept"
   ]
  },
  {
   "cell_type": "code",
   "execution_count": 4,
   "metadata": {},
   "outputs": [],
   "source": [
    "!ls SRR133111*.gtf > merge_gtf.txt"
   ]
  },
  {
   "cell_type": "code",
   "execution_count": 5,
   "metadata": {},
   "outputs": [
    {
     "name": "stdout",
     "output_type": "stream",
     "text": [
      "SRR13311153.gtf\r\n",
      "SRR13311154.gtf\r\n",
      "SRR13311155.gtf\r\n",
      "SRR13311156.gtf\r\n",
      "SRR13311157.gtf\r\n",
      "SRR13311158.gtf\r\n",
      "SRR13311159.gtf\r\n",
      "SRR13311160.gtf\r\n",
      "SRR13311161.gtf\r\n",
      "SRR13311162.gtf\r\n",
      "SRR13311163.gtf\r\n",
      "SRR13311164.gtf\r\n",
      "SRR13311165.gtf\r\n",
      "SRR13311166.gtf\r\n",
      "SRR13311167.gtf\r\n",
      "SRR13311168.gtf\r\n",
      "SRR13311169.gtf\r\n",
      "SRR13311170.gtf\r\n",
      "SRR13311171.gtf\r\n",
      "SRR13311172.gtf\r\n",
      "SRR13311173.gtf\r\n",
      "SRR13311174.gtf\r\n",
      "SRR13311175.gtf\r\n",
      "SRR13311176.gtf\r\n",
      "SRR13311177.gtf\r\n",
      "SRR13311178.gtf\r\n",
      "SRR13311179.gtf\r\n",
      "SRR13311180.gtf\r\n"
     ]
    }
   ],
   "source": [
    "!cat merge_gtf.txt"
   ]
  },
  {
   "cell_type": "markdown",
   "metadata": {},
   "source": [
    "### stringtie_ctab.sh\n",
    "##### let's make output for ballgown package in r using above script"
   ]
  },
  {
   "cell_type": "code",
   "execution_count": 6,
   "metadata": {},
   "outputs": [
    {
     "name": "stdout",
     "output_type": "stream",
     "text": [
      "Forward reads: merge_gtf.txt\r\n",
      "Reverse reads: Homo_sapiens.GRCh38.106\r\n",
      "output file: Homo_sapiens.GRCh38.106.merge.gtf\r\n"
     ]
    }
   ],
   "source": [
    "!bash stringtie_ctab.sh -l merge_gtf.txt -r Homo_sapiens.GRCh38.106 -s SRR13311178\n",
    "# -l take txt file having gtf file name of sample\n",
    "# -r take prefix name of gtf file \n",
    "# -s take sample that use for input bam file and make file gtf fil in ballgown folder"
   ]
  },
  {
   "cell_type": "code",
   "execution_count": null,
   "metadata": {},
   "outputs": [],
   "source": []
  }
 ],
 "metadata": {
  "kernelspec": {
   "display_name": "Python 3 (ipykernel)",
   "language": "python",
   "name": "python3"
  },
  "language_info": {
   "codemirror_mode": {
    "name": "ipython",
    "version": 3
   },
   "file_extension": ".py",
   "mimetype": "text/x-python",
   "name": "python",
   "nbconvert_exporter": "python",
   "pygments_lexer": "ipython3",
   "version": "3.8.10"
  }
 },
 "nbformat": 4,
 "nbformat_minor": 4
}
